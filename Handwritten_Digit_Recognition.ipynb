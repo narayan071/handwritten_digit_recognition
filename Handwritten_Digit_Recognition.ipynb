{
 "cells": [
  {
   "cell_type": "markdown",
   "id": "b6f4920b",
   "metadata": {},
   "source": [
    "# PROJECT : HANDWRITTEN DIGIT RECOGNITION SYSTEM"
   ]
  },
  {
   "cell_type": "markdown",
   "id": "106e32ba",
   "metadata": {},
   "source": [
    "## Data Preprocessing"
   ]
  },
  {
   "cell_type": "markdown",
   "id": "c4e8b1dd",
   "metadata": {},
   "source": [
    "### Importing Libraries and Data"
   ]
  },
  {
   "cell_type": "code",
   "execution_count": 1,
   "id": "fa956c06",
   "metadata": {
    "scrolled": false
   },
   "outputs": [
    {
     "data": {
      "text/html": [
       "<div>\n",
       "<style scoped>\n",
       "    .dataframe tbody tr th:only-of-type {\n",
       "        vertical-align: middle;\n",
       "    }\n",
       "\n",
       "    .dataframe tbody tr th {\n",
       "        vertical-align: top;\n",
       "    }\n",
       "\n",
       "    .dataframe thead th {\n",
       "        text-align: right;\n",
       "    }\n",
       "</style>\n",
       "<table border=\"1\" class=\"dataframe\">\n",
       "  <thead>\n",
       "    <tr style=\"text-align: right;\">\n",
       "      <th></th>\n",
       "      <th>label</th>\n",
       "      <th>pixel0</th>\n",
       "      <th>pixel1</th>\n",
       "      <th>pixel2</th>\n",
       "      <th>pixel3</th>\n",
       "      <th>pixel4</th>\n",
       "      <th>pixel5</th>\n",
       "      <th>pixel6</th>\n",
       "      <th>pixel7</th>\n",
       "      <th>pixel8</th>\n",
       "      <th>...</th>\n",
       "      <th>pixel774</th>\n",
       "      <th>pixel775</th>\n",
       "      <th>pixel776</th>\n",
       "      <th>pixel777</th>\n",
       "      <th>pixel778</th>\n",
       "      <th>pixel779</th>\n",
       "      <th>pixel780</th>\n",
       "      <th>pixel781</th>\n",
       "      <th>pixel782</th>\n",
       "      <th>pixel783</th>\n",
       "    </tr>\n",
       "  </thead>\n",
       "  <tbody>\n",
       "    <tr>\n",
       "      <th>0</th>\n",
       "      <td>1</td>\n",
       "      <td>0</td>\n",
       "      <td>0</td>\n",
       "      <td>0</td>\n",
       "      <td>0</td>\n",
       "      <td>0</td>\n",
       "      <td>0</td>\n",
       "      <td>0</td>\n",
       "      <td>0</td>\n",
       "      <td>0</td>\n",
       "      <td>...</td>\n",
       "      <td>0</td>\n",
       "      <td>0</td>\n",
       "      <td>0</td>\n",
       "      <td>0</td>\n",
       "      <td>0</td>\n",
       "      <td>0</td>\n",
       "      <td>0</td>\n",
       "      <td>0</td>\n",
       "      <td>0</td>\n",
       "      <td>0</td>\n",
       "    </tr>\n",
       "    <tr>\n",
       "      <th>1</th>\n",
       "      <td>0</td>\n",
       "      <td>0</td>\n",
       "      <td>0</td>\n",
       "      <td>0</td>\n",
       "      <td>0</td>\n",
       "      <td>0</td>\n",
       "      <td>0</td>\n",
       "      <td>0</td>\n",
       "      <td>0</td>\n",
       "      <td>0</td>\n",
       "      <td>...</td>\n",
       "      <td>0</td>\n",
       "      <td>0</td>\n",
       "      <td>0</td>\n",
       "      <td>0</td>\n",
       "      <td>0</td>\n",
       "      <td>0</td>\n",
       "      <td>0</td>\n",
       "      <td>0</td>\n",
       "      <td>0</td>\n",
       "      <td>0</td>\n",
       "    </tr>\n",
       "    <tr>\n",
       "      <th>2</th>\n",
       "      <td>1</td>\n",
       "      <td>0</td>\n",
       "      <td>0</td>\n",
       "      <td>0</td>\n",
       "      <td>0</td>\n",
       "      <td>0</td>\n",
       "      <td>0</td>\n",
       "      <td>0</td>\n",
       "      <td>0</td>\n",
       "      <td>0</td>\n",
       "      <td>...</td>\n",
       "      <td>0</td>\n",
       "      <td>0</td>\n",
       "      <td>0</td>\n",
       "      <td>0</td>\n",
       "      <td>0</td>\n",
       "      <td>0</td>\n",
       "      <td>0</td>\n",
       "      <td>0</td>\n",
       "      <td>0</td>\n",
       "      <td>0</td>\n",
       "    </tr>\n",
       "    <tr>\n",
       "      <th>3</th>\n",
       "      <td>4</td>\n",
       "      <td>0</td>\n",
       "      <td>0</td>\n",
       "      <td>0</td>\n",
       "      <td>0</td>\n",
       "      <td>0</td>\n",
       "      <td>0</td>\n",
       "      <td>0</td>\n",
       "      <td>0</td>\n",
       "      <td>0</td>\n",
       "      <td>...</td>\n",
       "      <td>0</td>\n",
       "      <td>0</td>\n",
       "      <td>0</td>\n",
       "      <td>0</td>\n",
       "      <td>0</td>\n",
       "      <td>0</td>\n",
       "      <td>0</td>\n",
       "      <td>0</td>\n",
       "      <td>0</td>\n",
       "      <td>0</td>\n",
       "    </tr>\n",
       "    <tr>\n",
       "      <th>4</th>\n",
       "      <td>0</td>\n",
       "      <td>0</td>\n",
       "      <td>0</td>\n",
       "      <td>0</td>\n",
       "      <td>0</td>\n",
       "      <td>0</td>\n",
       "      <td>0</td>\n",
       "      <td>0</td>\n",
       "      <td>0</td>\n",
       "      <td>0</td>\n",
       "      <td>...</td>\n",
       "      <td>0</td>\n",
       "      <td>0</td>\n",
       "      <td>0</td>\n",
       "      <td>0</td>\n",
       "      <td>0</td>\n",
       "      <td>0</td>\n",
       "      <td>0</td>\n",
       "      <td>0</td>\n",
       "      <td>0</td>\n",
       "      <td>0</td>\n",
       "    </tr>\n",
       "  </tbody>\n",
       "</table>\n",
       "<p>5 rows × 785 columns</p>\n",
       "</div>"
      ],
      "text/plain": [
       "   label  pixel0  pixel1  pixel2  pixel3  pixel4  pixel5  pixel6  pixel7  \\\n",
       "0      1       0       0       0       0       0       0       0       0   \n",
       "1      0       0       0       0       0       0       0       0       0   \n",
       "2      1       0       0       0       0       0       0       0       0   \n",
       "3      4       0       0       0       0       0       0       0       0   \n",
       "4      0       0       0       0       0       0       0       0       0   \n",
       "\n",
       "   pixel8  ...  pixel774  pixel775  pixel776  pixel777  pixel778  pixel779  \\\n",
       "0       0  ...         0         0         0         0         0         0   \n",
       "1       0  ...         0         0         0         0         0         0   \n",
       "2       0  ...         0         0         0         0         0         0   \n",
       "3       0  ...         0         0         0         0         0         0   \n",
       "4       0  ...         0         0         0         0         0         0   \n",
       "\n",
       "   pixel780  pixel781  pixel782  pixel783  \n",
       "0         0         0         0         0  \n",
       "1         0         0         0         0  \n",
       "2         0         0         0         0  \n",
       "3         0         0         0         0  \n",
       "4         0         0         0         0  \n",
       "\n",
       "[5 rows x 785 columns]"
      ]
     },
     "execution_count": 1,
     "metadata": {},
     "output_type": "execute_result"
    }
   ],
   "source": [
    "import numpy as np\n",
    "import pandas as pd\n",
    "import matplotlib.pyplot as plt\n",
    "\n",
    "Digits_df = pd.read_csv(\"archive/train.csv\")\n",
    "Digits_df.head()"
   ]
  },
  {
   "cell_type": "markdown",
   "id": "99578cdb",
   "metadata": {},
   "source": [
    "## INSIGHTS ON MNSIT HANDWRITTEN DIGIT DATASET"
   ]
  },
  {
   "cell_type": "markdown",
   "id": "ea029823",
   "metadata": {},
   "source": [
    "#### It is a set of 70,000 small images of digits handwritten by high school students and employees of the US causes Bureau.\n",
    "#### Each image has 28*28 = 784 features.\n",
    "#### Also Each image has 28*28 pixels.\n",
    "#### Following is the Sample images from MNIST test dataset taken from Wikipedia."
   ]
  },
  {
   "attachments": {
    "480px-MnistExamples.png": {
     "image/png": "[encoded data removed]"
    }
   },
   "cell_type": "markdown",
   "id": "a2382a1f",
   "metadata": {},
   "source": [
    "![480px-MnistExamples.png](attachment:480px-MnistExamples.png)"
   ]
  },
  {
   "cell_type": "code",
   "execution_count": 2,
   "id": "d19129f2",
   "metadata": {
    "scrolled": false
   },
   "outputs": [
    {
     "name": "stdout",
     "output_type": "stream",
     "text": [
      "(42000, 785)\n"
     ]
    },
    {
     "data": {
      "text/plain": [
       "label       0\n",
       "pixel0      0\n",
       "pixel1      0\n",
       "pixel2      0\n",
       "pixel3      0\n",
       "           ..\n",
       "pixel779    0\n",
       "pixel780    0\n",
       "pixel781    0\n",
       "pixel782    0\n",
       "pixel783    0\n",
       "Length: 785, dtype: int64"
      ]
     },
     "execution_count": 2,
     "metadata": {},
     "output_type": "execute_result"
    }
   ],
   "source": [
    "print(Digits_df.shape)\n",
    "Digits_df.isnull().sum()"
   ]
  },
  {
   "cell_type": "markdown",
   "id": "40cbc2bc",
   "metadata": {},
   "source": [
    "## There is no null value and categorical Data"
   ]
  },
  {
   "cell_type": "markdown",
   "id": "1b0a8a8f",
   "metadata": {},
   "source": [
    "### Splitting Feature Matrix(X) and Column Vector(Y) then training and testing dataset"
   ]
  },
  {
   "cell_type": "code",
   "execution_count": 3,
   "id": "f301b34a",
   "metadata": {},
   "outputs": [
    {
     "name": "stdout",
     "output_type": "stream",
     "text": [
      "(33600, 784) (8400, 784)\n"
     ]
    }
   ],
   "source": [
    "X = Digits_df.iloc[:, 1:].values\n",
    "Y = Digits_df.iloc[:, 0].values\n",
    "\n",
    "from sklearn.model_selection import train_test_split\n",
    "x_train, x_test, y_train, y_test = train_test_split(X, Y, test_size=0.2)\n",
    "print(x_train.shape, x_test.shape)"
   ]
  },
  {
   "cell_type": "markdown",
   "id": "17350564",
   "metadata": {},
   "source": [
    "### Now Data is ready for Modelling"
   ]
  },
  {
   "cell_type": "markdown",
   "id": "fa1abee6",
   "metadata": {},
   "source": [
    "### Check a Digit as image"
   ]
  },
  {
   "cell_type": "code",
   "execution_count": 4,
   "id": "0714aaae",
   "metadata": {
    "scrolled": true
   },
   "outputs": [
    {
     "name": "stdout",
     "output_type": "stream",
     "text": [
      "5\n"
     ]
    },
    {
     "data": {
      "image/png": "[encoded data removed]",
      "text/plain": [
       "<Figure size 432x288 with 1 Axes>"
      ]
     },
     "metadata": {
      "needs_background": "light"
     },
     "output_type": "display_data"
    }
   ],
   "source": [
    "i = 12345\n",
    "See_Digit = x_train[i].reshape(28, 28)\n",
    "print(y_train[i])\n",
    "\n",
    "plt.imshow(See_Digit, cmap=\"Greys\", interpolation=\"blackman\")\n",
    "plt.axis(\"off\")\n",
    "plt.show()"
   ]
  },
  {
   "cell_type": "markdown",
   "id": "2c3f973d",
   "metadata": {},
   "source": [
    "## Applying Classification Models"
   ]
  },
  {
   "cell_type": "markdown",
   "id": "e8a440b9",
   "metadata": {},
   "source": [
    "### 1. Logistic Regression Classifier"
   ]
  },
  {
   "cell_type": "code",
   "execution_count": 5,
   "id": "d7f2fea4",
   "metadata": {
    "scrolled": false
   },
   "outputs": [
    {
     "name": "stderr",
     "output_type": "stream",
     "text": [
      "C:\\Users\\subho\\anaconda3\\lib\\site-packages\\sklearn\\linear_model\\_logistic.py:814: ConvergenceWarning: lbfgs failed to converge (status=1):\n",
      "STOP: TOTAL NO. of ITERATIONS REACHED LIMIT.\n",
      "\n",
      "Increase the number of iterations (max_iter) or scale the data as shown in:\n",
      "    https://scikit-learn.org/stable/modules/preprocessing.html\n",
      "Please also refer to the documentation for alternative solver options:\n",
      "    https://scikit-learn.org/stable/modules/linear_model.html#logistic-regression\n",
      "  n_iter_i = _check_optimize_result(\n"
     ]
    },
    {
     "data": {
      "text/plain": [
       "LogisticRegression()"
      ]
     },
     "execution_count": 5,
     "metadata": {},
     "output_type": "execute_result"
    }
   ],
   "source": [
    "from sklearn.linear_model import LogisticRegression\n",
    "\n",
    "LR = LogisticRegression()\n",
    "LR.fit(x_train, y_train)"
   ]
  },
  {
   "cell_type": "code",
   "execution_count": 6,
   "id": "5bdbf887",
   "metadata": {},
   "outputs": [],
   "source": [
    "y_predict_LR = LR.predict(x_test)"
   ]
  },
  {
   "cell_type": "code",
   "execution_count": 7,
   "id": "6401ebf8",
   "metadata": {},
   "outputs": [],
   "source": [
    "from sklearn.metrics import confusion_matrix"
   ]
  },
  {
   "cell_type": "code",
   "execution_count": 8,
   "id": "726551be",
   "metadata": {},
   "outputs": [
    {
     "name": "stdout",
     "output_type": "stream",
     "text": [
      "Confusion Matrix LR: \n",
      " [[791   0   5   0   5  12  19   3   5   2]\n",
      " [  0 920   2   5   0   2   1   1   9   1]\n",
      " [  2   9 746  17   8   4   9   9  21   5]\n",
      " [  4   4  21 761   0  41   2   8  22   5]\n",
      " [  1   5   5   1 741   1   9   3   9  29]\n",
      " [  5   4   9  33  10 689  15   3  21  11]\n",
      " [  3   1   7   0   7  13 779   0   5   0]\n",
      " [  4   3   5   8   3   1   1 790   6  38]\n",
      " [  7  11  13  22   4  29   5   3 701   6]\n",
      " [  5   4   2   8  26   8   0  23   3 761]]\n"
     ]
    }
   ],
   "source": [
    "print(\"Confusion Matrix LR: \\n\", confusion_matrix(y_test, y_predict_LR))"
   ]
  },
  {
   "cell_type": "markdown",
   "id": "0ff01a57",
   "metadata": {},
   "source": [
    "### 2. Gaussian Naive Bayes Classifier"
   ]
  },
  {
   "cell_type": "code",
   "execution_count": 9,
   "id": "90b7606c",
   "metadata": {},
   "outputs": [
    {
     "data": {
      "text/plain": [
       "GaussianNB()"
      ]
     },
     "execution_count": 9,
     "metadata": {},
     "output_type": "execute_result"
    }
   ],
   "source": [
    "from sklearn.naive_bayes import GaussianNB\n",
    "\n",
    "GNB = GaussianNB()\n",
    "GNB.fit(x_train, y_train)"
   ]
  },
  {
   "cell_type": "code",
   "execution_count": 10,
   "id": "75bab71b",
   "metadata": {},
   "outputs": [],
   "source": [
    "y_predict_GNB = GNB.predict(x_test)"
   ]
  },
  {
   "cell_type": "code",
   "execution_count": 11,
   "id": "d6cc5d46",
   "metadata": {},
   "outputs": [
    {
     "name": "stdout",
     "output_type": "stream",
     "text": [
      "Confusion Matrix GNB: \n",
      " [[739   2   5   1   2   3  56   0  20  14]\n",
      " [  0 890   0   4   1   3  18   0  17   8]\n",
      " [ 75  25 233  79   2   4 233   2 165  12]\n",
      " [ 72  47   5 297   3   1  83   5 265  90]\n",
      " [ 14  13   5   2 168   4 114   2  99 383]\n",
      " [ 97  23   6  11  10  54  79   1 441  78]\n",
      " [ 10   6   7   2   0   3 780   0   4   3]\n",
      " [  5   7   1  13   8   1   3 285  38 498]\n",
      " [ 19 118   2   3   8   7  37   1 475 131]\n",
      " [  6   3   3   1   6   0   2  12  15 792]]\n"
     ]
    }
   ],
   "source": [
    "print(\"Confusion Matrix GNB: \\n\", confusion_matrix(y_test, y_predict_GNB))"
   ]
  },
  {
   "cell_type": "markdown",
   "id": "63c79a76",
   "metadata": {},
   "source": [
    "### 3. Random Forest Classifier"
   ]
  },
  {
   "cell_type": "code",
   "execution_count": 12,
   "id": "57540e2a",
   "metadata": {},
   "outputs": [
    {
     "data": {
      "text/plain": [
       "RandomForestClassifier()"
      ]
     },
     "execution_count": 12,
     "metadata": {},
     "output_type": "execute_result"
    }
   ],
   "source": [
    "from sklearn.ensemble import RandomForestClassifier\n",
    "\n",
    "RF = RandomForestClassifier(n_estimators=100)\n",
    "RF.fit(x_test, y_test)"
   ]
  },
  {
   "cell_type": "code",
   "execution_count": 13,
   "id": "cd8e9d7e",
   "metadata": {},
   "outputs": [],
   "source": [
    "y_predict_RF = RF.predict(x_test)"
   ]
  },
  {
   "cell_type": "code",
   "execution_count": 14,
   "id": "c328e59a",
   "metadata": {},
   "outputs": [
    {
     "name": "stdout",
     "output_type": "stream",
     "text": [
      "Confusion Matrix RF: \n",
      " [[842   0   0   0   0   0   0   0   0   0]\n",
      " [  0 941   0   0   0   0   0   0   0   0]\n",
      " [  0   0 830   0   0   0   0   0   0   0]\n",
      " [  0   0   0 868   0   0   0   0   0   0]\n",
      " [  0   0   0   0 804   0   0   0   0   0]\n",
      " [  0   0   0   0   0 800   0   0   0   0]\n",
      " [  0   0   0   0   0   0 815   0   0   0]\n",
      " [  0   0   0   0   0   0   0 859   0   0]\n",
      " [  0   0   0   0   0   0   0   0 801   0]\n",
      " [  0   0   0   0   0   0   0   0   0 840]]\n"
     ]
    }
   ],
   "source": [
    "print(\"Confusion Matrix RF: \\n\", confusion_matrix(y_test, y_predict_RF))"
   ]
  },
  {
   "cell_type": "markdown",
   "id": "0f5257c4",
   "metadata": {},
   "source": [
    "### 4. Decision Tree Classifier"
   ]
  },
  {
   "cell_type": "code",
   "execution_count": 15,
   "id": "0b4689ce",
   "metadata": {},
   "outputs": [
    {
     "data": {
      "text/plain": [
       "DecisionTreeClassifier()"
      ]
     },
     "execution_count": 15,
     "metadata": {},
     "output_type": "execute_result"
    }
   ],
   "source": [
    "from sklearn.tree import DecisionTreeClassifier\n",
    "\n",
    "DT = DecisionTreeClassifier()\n",
    "DT.fit(x_train, y_train)"
   ]
  },
  {
   "cell_type": "code",
   "execution_count": 16,
   "id": "06a0df3e",
   "metadata": {},
   "outputs": [],
   "source": [
    "y_predict_DT = DT.predict(x_test)"
   ]
  },
  {
   "cell_type": "code",
   "execution_count": 17,
   "id": "ce923420",
   "metadata": {},
   "outputs": [
    {
     "name": "stdout",
     "output_type": "stream",
     "text": [
      "Confusion Matrix DT: \n",
      " [[761   1  20  13   5  13  13   5   7   4]\n",
      " [  0 895  10   7   5   5   5   2  10   2]\n",
      " [  7  13 687  20   8  14  13  24  28  16]\n",
      " [  6  11  35 689   6  47   2  18  33  21]\n",
      " [  4   8  17   9 673   9   8   9  19  48]\n",
      " [ 16   3   5  39  10 641  30   8  26  22]\n",
      " [ 12   2  18   2  15  20 729   0  10   7]\n",
      " [  2   8  26  12  14   3   2 765   5  22]\n",
      " [ 14  13  26  31  17  31  13  11 605  40]\n",
      " [  5   6  12  14  39  14   5  31  22 692]]\n"
     ]
    }
   ],
   "source": [
    "print(\"Confusion Matrix DT: \\n\", confusion_matrix(y_test, y_predict_DT))"
   ]
  },
  {
   "cell_type": "markdown",
   "id": "31329f34",
   "metadata": {},
   "source": [
    "### 5. KNN Classifier"
   ]
  },
  {
   "cell_type": "code",
   "execution_count": 18,
   "id": "7fbcf781",
   "metadata": {
    "scrolled": true
   },
   "outputs": [
    {
     "data": {
      "text/plain": [
       "KNeighborsClassifier(n_neighbors=10)"
      ]
     },
     "execution_count": 18,
     "metadata": {},
     "output_type": "execute_result"
    }
   ],
   "source": [
    "from sklearn.neighbors import KNeighborsClassifier\n",
    "\n",
    "KNN = KNeighborsClassifier(n_neighbors=10)\n",
    "KNN.fit(x_train, y_train)"
   ]
  },
  {
   "cell_type": "code",
   "execution_count": 19,
   "id": "134f6989",
   "metadata": {},
   "outputs": [],
   "source": [
    "y_predict_KNN = KNN.predict(x_test)"
   ]
  },
  {
   "cell_type": "code",
   "execution_count": 20,
   "id": "240b9a8f",
   "metadata": {
    "scrolled": true
   },
   "outputs": [
    {
     "name": "stdout",
     "output_type": "stream",
     "text": [
      "Confusion Matrix KNN: \n",
      " [[830   1   2   0   0   2   5   1   0   1]\n",
      " [  0 937   2   0   0   0   0   1   0   1]\n",
      " [  8  14 783   4   0   1   0  17   3   0]\n",
      " [  1   8   1 835   1   6   1   9   4   2]\n",
      " [  1  15   0   0 759   0   5   3   0  21]\n",
      " [  3   1   0  12   1 764  10   0   0   9]\n",
      " [  1   2   0   0   2   8 802   0   0   0]\n",
      " [  0  15   2   0   1   0   0 832   0   9]\n",
      " [  4  11   4  20   3  11   5   2 728  13]\n",
      " [  3   1   1   8   3   0   0  16   1 807]]\n"
     ]
    }
   ],
   "source": [
    "print(\"Confusion Matrix KNN: \\n\", confusion_matrix(y_test, y_predict_KNN))"
   ]
  },
  {
   "cell_type": "markdown",
   "id": "3d52be20",
   "metadata": {},
   "source": [
    "## Comparing Models"
   ]
  },
  {
   "cell_type": "code",
   "execution_count": 21,
   "id": "220edc0f",
   "metadata": {},
   "outputs": [],
   "source": [
    "from sklearn.metrics import accuracy_score, precision_score, mean_absolute_error,mean_squared_error,r2_score, f1_score"
   ]
  },
  {
   "cell_type": "markdown",
   "id": "7f3e8ebf",
   "metadata": {},
   "source": [
    "### 1. Accuracy Score"
   ]
  },
  {
   "cell_type": "code",
   "execution_count": 22,
   "id": "210f62a1",
   "metadata": {
    "scrolled": true
   },
   "outputs": [
    {
     "name": "stdout",
     "output_type": "stream",
     "text": [
      "Accuracy Score Logistic Regression:  0.9141666666666667\n",
      "Accuracy Score GNB:  0.5610714285714286\n",
      "Accuracy Score Random Forest:  1.0\n",
      "Accuracy Score Decision Tree:  0.8496428571428571\n",
      "Accuracy Score KNN:  0.9615476190476191\n"
     ]
    }
   ],
   "source": [
    "print(\"Accuracy Score Logistic Regression: \", accuracy_score(y_test, y_predict_LR))\n",
    "print(\"Accuracy Score GNB: \", accuracy_score(y_test, y_predict_GNB))\n",
    "print(\"Accuracy Score Random Forest: \", accuracy_score(y_test, y_predict_RF))\n",
    "print(\"Accuracy Score Decision Tree: \", accuracy_score(y_test, y_predict_DT))\n",
    "print(\"Accuracy Score KNN: \", accuracy_score(y_test, y_predict_KNN))"
   ]
  },
  {
   "cell_type": "markdown",
   "id": "224f7f00",
   "metadata": {},
   "source": [
    "### 2. Precision Score"
   ]
  },
  {
   "cell_type": "code",
   "execution_count": 23,
   "id": "3acbf6bd",
   "metadata": {
    "scrolled": true
   },
   "outputs": [
    {
     "name": "stdout",
     "output_type": "stream",
     "text": [
      "Precision Score Logistic Regression:  0.9141666666666667\n",
      "Precision Score GNB:  0.5610714285714286\n",
      "Precision Score Random Forest:  1.0\n",
      "Precision Score Decision Tree:  0.8496428571428571\n",
      "Precision Score KNN:  0.9615476190476191\n"
     ]
    }
   ],
   "source": [
    "print(\"Precision Score Logistic Regression: \", precision_score(y_test, y_predict_LR,average='micro'))\n",
    "print(\"Precision Score GNB: \", precision_score(y_test, y_predict_GNB,average='micro'))\n",
    "print(\"Precision Score Random Forest: \", precision_score(y_test, y_predict_RF,average='micro'))\n",
    "print(\"Precision Score Decision Tree: \", precision_score(y_test, y_predict_DT,average='micro'))\n",
    "print(\"Precision Score KNN: \", precision_score(y_test, y_predict_KNN,average='micro'))"
   ]
  },
  {
   "cell_type": "markdown",
   "id": "b0ac878f",
   "metadata": {},
   "source": [
    "### 3. f1 Score"
   ]
  },
  {
   "cell_type": "code",
   "execution_count": 24,
   "id": "19d9d237",
   "metadata": {
    "scrolled": true
   },
   "outputs": [
    {
     "name": "stdout",
     "output_type": "stream",
     "text": [
      "f1 Score Logistic Regression:  0.9141666666666667\n",
      "f1 Score GNB:  0.5610714285714286\n",
      "f1 Score Random Forest:  1.0\n",
      "f1 Score Decision Tree:  0.8496428571428571\n",
      "f1 Score KNN:  0.9615476190476191\n"
     ]
    }
   ],
   "source": [
    "print(\"f1 Score Logistic Regression: \", f1_score(y_test, y_predict_LR, average='micro'))\n",
    "print(\"f1 Score GNB: \", f1_score(y_test, y_predict_GNB, average='micro'))\n",
    "print(\"f1 Score Random Forest: \", f1_score(y_test, y_predict_RF, average='micro'))\n",
    "print(\"f1 Score Decision Tree: \", f1_score(y_test, y_predict_DT, average='micro'))\n",
    "print(\"f1 Score KNN: \", f1_score(y_test, y_predict_KNN, average='micro'))"
   ]
  },
  {
   "cell_type": "markdown",
   "id": "7a78d804",
   "metadata": {},
   "source": [
    "### 4. R2 Score"
   ]
  },
  {
   "cell_type": "code",
   "execution_count": 25,
   "id": "79f268b6",
   "metadata": {
    "scrolled": true
   },
   "outputs": [
    {
     "name": "stdout",
     "output_type": "stream",
     "text": [
      "r2 Score Logistic Regression:  0.827864274387426\n",
      "r2 Score GNB:  0.12764027497162356\n",
      "r2 Score Random Forest:  1.0\n",
      "r2 Score Decision Tree:  0.7026811387753984\n",
      "r2 Score KNN:  0.9199295746466989\n"
     ]
    }
   ],
   "source": [
    "print(\"r2 Score Logistic Regression: \", r2_score(y_test, y_predict_LR))\n",
    "print(\"r2 Score GNB: \", r2_score(y_test, y_predict_GNB))\n",
    "print(\"r2 Score Random Forest: \", r2_score(y_test, y_predict_RF))\n",
    "print(\"r2 Score Decision Tree: \", r2_score(y_test, y_predict_DT))\n",
    "print(\"r2 Score KNN: \", r2_score(y_test, y_predict_KNN))"
   ]
  },
  {
   "cell_type": "markdown",
   "id": "1242e502",
   "metadata": {},
   "source": [
    "### 5. Mean Absolute Error"
   ]
  },
  {
   "cell_type": "code",
   "execution_count": 26,
   "id": "fd18bd9c",
   "metadata": {},
   "outputs": [
    {
     "name": "stdout",
     "output_type": "stream",
     "text": [
      "Mean Absolute Error Logistic Regression:  0.30654761904761907\n",
      "Mean Absolute Error GNB:  1.6047619047619048\n",
      "Mean Absolute Error Random Forest:  0.0\n",
      "Mean Absolute Error Decision Tree:  0.5314285714285715\n",
      "Mean Absolute Error KNN:  0.13976190476190475\n"
     ]
    }
   ],
   "source": [
    "print(\"Mean Absolute Error Logistic Regression: \", mean_absolute_error(y_test, y_predict_LR))\n",
    "print(\"Mean Absolute Error GNB: \", mean_absolute_error(y_test, y_predict_GNB))\n",
    "print(\"Mean Absolute Error Random Forest: \", mean_absolute_error(y_test, y_predict_RF))\n",
    "print(\"Mean Absolute Error Decision Tree: \", mean_absolute_error(y_test, y_predict_DT))\n",
    "print(\"Mean Absolute Error KNN: \", mean_absolute_error(y_test, y_predict_KNN))"
   ]
  },
  {
   "cell_type": "markdown",
   "id": "d3eda3ce",
   "metadata": {},
   "source": [
    "### 6. Mean Squared Error"
   ]
  },
  {
   "cell_type": "code",
   "execution_count": 27,
   "id": "893f25be",
   "metadata": {},
   "outputs": [
    {
     "name": "stdout",
     "output_type": "stream",
     "text": [
      "Mean Squared Error Logistic Regression:  1.1986599660811712\n",
      "Mean Squared Error GNB:  2.69841223155925\n",
      "Mean Squared Error Random Forest:  0.0\n",
      "Mean Squared Error Decision Tree:  1.575330653122279\n",
      "Mean Squared Error KNN:  0.8175165645620481\n"
     ]
    }
   ],
   "source": [
    "print(\"Mean Squared Error Logistic Regression: \", mean_squared_error(y_test, y_predict_LR, squared=False))\n",
    "print(\"Mean Squared Error GNB: \", mean_squared_error(y_test, y_predict_GNB, squared=False))\n",
    "print(\"Mean Squared Error Random Forest: \", mean_squared_error(y_test, y_predict_RF, squared=False))\n",
    "print(\"Mean Squared Error Decision Tree: \", mean_squared_error(y_test, y_predict_DT, squared=False))\n",
    "print(\"Mean Squared Error KNN: \", mean_squared_error(y_test, y_predict_KNN, squared=False))"
   ]
  },
  {
   "cell_type": "markdown",
   "id": "01b25941",
   "metadata": {},
   "source": [
    "### Testing a random Test Data"
   ]
  },
  {
   "cell_type": "code",
   "execution_count": 30,
   "id": "0d045c19",
   "metadata": {
    "scrolled": true
   },
   "outputs": [
    {
     "name": "stdout",
     "output_type": "stream",
     "text": [
      "LR:  [6]\n",
      "GNB:  [6]\n",
      "RF:  [6]\n",
      "DT:  [6]\n",
      "KNN:  [6]\n"
     ]
    },
    {
     "data": {
      "image/png": "[encoded data removed]",
      "text/plain": [
       "<Figure size 432x288 with 1 Axes>"
      ]
     },
     "metadata": {
      "needs_background": "light"
     },
     "output_type": "display_data"
    }
   ],
   "source": [
    "j = 100\n",
    "See_Digit = x_test[j].reshape(28, 28)\n",
    "print(\"LR: \", LR.predict(x_test[j].reshape(1, 784)))\n",
    "print(\"GNB: \", GNB.predict(x_test[j].reshape(1, 784)))\n",
    "print(\"RF: \", RF.predict(x_test[j].reshape(1, 784)))\n",
    "print(\"DT: \", DT.predict(x_test[j].reshape(1, 784)))\n",
    "print(\"KNN: \", KNN.predict(x_test[j].reshape(1, 784)))\n",
    "\n",
    "plt.imshow(See_Digit, cmap=\"Greys\", interpolation=\"blackman\")\n",
    "plt.axis(\"off\")\n",
    "plt.show()"
   ]
  }
 ],
 "metadata": {
  "kernelspec": {
   "display_name": "Python 3 (ipykernel)",
   "language": "python",
   "name": "python3"
  },
  "language_info": {
   "codemirror_mode": {
    "name": "ipython",
    "version": 3
   },
   "file_extension": ".py",
   "mimetype": "text/x-python",
   "name": "python",
   "nbconvert_exporter": "python",
   "pygments_lexer": "ipython3",
   "version": "3.9.12"
  }
 },
 "nbformat": 4,
 "nbformat_minor": 5
}
